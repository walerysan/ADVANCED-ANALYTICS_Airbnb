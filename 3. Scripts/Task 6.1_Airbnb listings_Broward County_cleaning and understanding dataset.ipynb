{
 "cells": [
  {
   "cell_type": "markdown",
   "id": "aadf0ae2",
   "metadata": {},
   "source": [
    "## Airbnb listings for Broward County, FL\n",
    "Task 6.1 Cleaning and understanding the data\n",
    "\n",
    "Content:\n",
    "1. Importing libraries and files\n",
    "2. Cleaning procedures\n",
    "3. Understanding the data"
   ]
  },
  {
   "cell_type": "markdown",
   "id": "ef4d8de8",
   "metadata": {},
   "source": [
    "# 1 . Importing libraries and files"
   ]
  },
  {
   "cell_type": "code",
   "execution_count": 2,
   "id": "21753759",
   "metadata": {},
   "outputs": [],
   "source": [
    "import pandas as pd\n",
    "import numpy as np\n",
    "import os\n",
    "import matplotlib.pyplot as plt\n",
    "import seaborn as sns\n",
    "import scipy"
   ]
  },
  {
   "cell_type": "code",
   "execution_count": 3,
   "id": "eb323d20",
   "metadata": {},
   "outputs": [],
   "source": [
    "df_airbnb = pd.read_csv(r'D:\\CareerFoundry\\Data Immersion\\Task 6\\AirBnB Broward County FL Data\\02 Data\\Original data\\2021_09 Airbnb Broward County_original.csv')"
   ]
  },
  {
   "cell_type": "code",
   "execution_count": 4,
   "id": "5c6d7049",
   "metadata": {},
   "outputs": [
    {
     "name": "stdout",
     "output_type": "stream",
     "text": [
      "<class 'pandas.core.frame.DataFrame'>\n",
      "RangeIndex: 11950 entries, 0 to 11949\n",
      "Data columns (total 18 columns):\n",
      " #   Column                          Non-Null Count  Dtype  \n",
      "---  ------                          --------------  -----  \n",
      " 0   id                              11950 non-null  int64  \n",
      " 1   name                            11950 non-null  object \n",
      " 2   host_id                         11950 non-null  int64  \n",
      " 3   host_name                       11913 non-null  object \n",
      " 4   neighbourhood_group             0 non-null      float64\n",
      " 5   neighbourhood                   11950 non-null  object \n",
      " 6   latitude                        11950 non-null  float64\n",
      " 7   longitude                       11950 non-null  float64\n",
      " 8   room_type                       11950 non-null  object \n",
      " 9   price                           11950 non-null  int64  \n",
      " 10  minimum_nights                  11950 non-null  int64  \n",
      " 11  number_of_reviews               11950 non-null  int64  \n",
      " 12  last_review                     9500 non-null   object \n",
      " 13  reviews_per_month               9500 non-null   float64\n",
      " 14  calculated_host_listings_count  11950 non-null  int64  \n",
      " 15  availability_365                11950 non-null  int64  \n",
      " 16  number_of_reviews_ltm           11950 non-null  int64  \n",
      " 17  license                         1 non-null      float64\n",
      "dtypes: float64(5), int64(8), object(5)\n",
      "memory usage: 1.6+ MB\n"
     ]
    }
   ],
   "source": [
    "df_airbnb.info()"
   ]
  },
  {
   "cell_type": "code",
   "execution_count": 5,
   "id": "5c2d678d",
   "metadata": {},
   "outputs": [
    {
     "data": {
      "text/html": [
       "<div>\n",
       "<style scoped>\n",
       "    .dataframe tbody tr th:only-of-type {\n",
       "        vertical-align: middle;\n",
       "    }\n",
       "\n",
       "    .dataframe tbody tr th {\n",
       "        vertical-align: top;\n",
       "    }\n",
       "\n",
       "    .dataframe thead th {\n",
       "        text-align: right;\n",
       "    }\n",
       "</style>\n",
       "<table border=\"1\" class=\"dataframe\">\n",
       "  <thead>\n",
       "    <tr style=\"text-align: right;\">\n",
       "      <th></th>\n",
       "      <th>id</th>\n",
       "      <th>name</th>\n",
       "      <th>host_id</th>\n",
       "      <th>host_name</th>\n",
       "      <th>neighbourhood_group</th>\n",
       "      <th>neighbourhood</th>\n",
       "      <th>latitude</th>\n",
       "      <th>longitude</th>\n",
       "      <th>room_type</th>\n",
       "      <th>price</th>\n",
       "      <th>minimum_nights</th>\n",
       "      <th>number_of_reviews</th>\n",
       "      <th>last_review</th>\n",
       "      <th>reviews_per_month</th>\n",
       "      <th>calculated_host_listings_count</th>\n",
       "      <th>availability_365</th>\n",
       "      <th>number_of_reviews_ltm</th>\n",
       "      <th>license</th>\n",
       "    </tr>\n",
       "  </thead>\n",
       "  <tbody>\n",
       "    <tr>\n",
       "      <th>0</th>\n",
       "      <td>57818</td>\n",
       "      <td>Private house close to the beach!</td>\n",
       "      <td>275948</td>\n",
       "      <td>VonJon</td>\n",
       "      <td>NaN</td>\n",
       "      <td>Hollywood</td>\n",
       "      <td>26.01670</td>\n",
       "      <td>-80.12437</td>\n",
       "      <td>Entire home/apt</td>\n",
       "      <td>191</td>\n",
       "      <td>2</td>\n",
       "      <td>55</td>\n",
       "      <td>8/1/2021</td>\n",
       "      <td>0.56</td>\n",
       "      <td>1</td>\n",
       "      <td>359</td>\n",
       "      <td>14</td>\n",
       "      <td>NaN</td>\n",
       "    </tr>\n",
       "    <tr>\n",
       "      <th>1</th>\n",
       "      <td>69824</td>\n",
       "      <td>2 bd/2ba Oceanfront Condo</td>\n",
       "      <td>351303</td>\n",
       "      <td>Tracy</td>\n",
       "      <td>NaN</td>\n",
       "      <td>Hallandale Beach</td>\n",
       "      <td>25.97641</td>\n",
       "      <td>-80.12052</td>\n",
       "      <td>Entire home/apt</td>\n",
       "      <td>110</td>\n",
       "      <td>30</td>\n",
       "      <td>2</td>\n",
       "      <td>3/27/2021</td>\n",
       "      <td>0.05</td>\n",
       "      <td>2</td>\n",
       "      <td>201</td>\n",
       "      <td>1</td>\n",
       "      <td>NaN</td>\n",
       "    </tr>\n",
       "    <tr>\n",
       "      <th>2</th>\n",
       "      <td>83449</td>\n",
       "      <td>MARY POP APTS 2/1 APT SLEEP 5</td>\n",
       "      <td>454736</td>\n",
       "      <td>Jon,  Mary Pop Apartments</td>\n",
       "      <td>NaN</td>\n",
       "      <td>Dania Beach</td>\n",
       "      <td>26.03392</td>\n",
       "      <td>-80.14201</td>\n",
       "      <td>Entire home/apt</td>\n",
       "      <td>99</td>\n",
       "      <td>7</td>\n",
       "      <td>20</td>\n",
       "      <td>1/26/2020</td>\n",
       "      <td>0.17</td>\n",
       "      <td>8</td>\n",
       "      <td>119</td>\n",
       "      <td>0</td>\n",
       "      <td>NaN</td>\n",
       "    </tr>\n",
       "    <tr>\n",
       "      <th>3</th>\n",
       "      <td>105411</td>\n",
       "      <td>House in the Ranches</td>\n",
       "      <td>532930</td>\n",
       "      <td>Sonia</td>\n",
       "      <td>NaN</td>\n",
       "      <td>Southwest Ranches</td>\n",
       "      <td>26.04678</td>\n",
       "      <td>-80.36809</td>\n",
       "      <td>Entire home/apt</td>\n",
       "      <td>235</td>\n",
       "      <td>4</td>\n",
       "      <td>5</td>\n",
       "      <td>8/27/2012</td>\n",
       "      <td>0.05</td>\n",
       "      <td>1</td>\n",
       "      <td>116</td>\n",
       "      <td>0</td>\n",
       "      <td>NaN</td>\n",
       "    </tr>\n",
       "    <tr>\n",
       "      <th>4</th>\n",
       "      <td>129061</td>\n",
       "      <td>MIAMI - LUXURY APARTMENT OVER BEACH</td>\n",
       "      <td>637272</td>\n",
       "      <td>Bianca</td>\n",
       "      <td>NaN</td>\n",
       "      <td>Hollywood</td>\n",
       "      <td>25.99332</td>\n",
       "      <td>-80.11887</td>\n",
       "      <td>Entire home/apt</td>\n",
       "      <td>250</td>\n",
       "      <td>20</td>\n",
       "      <td>18</td>\n",
       "      <td>3/26/2021</td>\n",
       "      <td>0.16</td>\n",
       "      <td>6</td>\n",
       "      <td>364</td>\n",
       "      <td>3</td>\n",
       "      <td>NaN</td>\n",
       "    </tr>\n",
       "  </tbody>\n",
       "</table>\n",
       "</div>"
      ],
      "text/plain": [
       "       id                                 name  host_id  \\\n",
       "0   57818    Private house close to the beach!   275948   \n",
       "1   69824            2 bd/2ba Oceanfront Condo   351303   \n",
       "2   83449        MARY POP APTS 2/1 APT SLEEP 5   454736   \n",
       "3  105411                 House in the Ranches   532930   \n",
       "4  129061  MIAMI - LUXURY APARTMENT OVER BEACH   637272   \n",
       "\n",
       "                   host_name  neighbourhood_group      neighbourhood  \\\n",
       "0                     VonJon                  NaN          Hollywood   \n",
       "1                      Tracy                  NaN   Hallandale Beach   \n",
       "2  Jon,  Mary Pop Apartments                  NaN        Dania Beach   \n",
       "3                      Sonia                  NaN  Southwest Ranches   \n",
       "4                     Bianca                  NaN          Hollywood   \n",
       "\n",
       "   latitude  longitude        room_type  price  minimum_nights  \\\n",
       "0  26.01670  -80.12437  Entire home/apt    191               2   \n",
       "1  25.97641  -80.12052  Entire home/apt    110              30   \n",
       "2  26.03392  -80.14201  Entire home/apt     99               7   \n",
       "3  26.04678  -80.36809  Entire home/apt    235               4   \n",
       "4  25.99332  -80.11887  Entire home/apt    250              20   \n",
       "\n",
       "   number_of_reviews last_review  reviews_per_month  \\\n",
       "0                 55    8/1/2021               0.56   \n",
       "1                  2   3/27/2021               0.05   \n",
       "2                 20   1/26/2020               0.17   \n",
       "3                  5   8/27/2012               0.05   \n",
       "4                 18   3/26/2021               0.16   \n",
       "\n",
       "   calculated_host_listings_count  availability_365  number_of_reviews_ltm  \\\n",
       "0                               1               359                     14   \n",
       "1                               2               201                      1   \n",
       "2                               8               119                      0   \n",
       "3                               1               116                      0   \n",
       "4                               6               364                      3   \n",
       "\n",
       "   license  \n",
       "0      NaN  \n",
       "1      NaN  \n",
       "2      NaN  \n",
       "3      NaN  \n",
       "4      NaN  "
      ]
     },
     "execution_count": 5,
     "metadata": {},
     "output_type": "execute_result"
    }
   ],
   "source": [
    "df_airbnb.head()"
   ]
  },
  {
   "cell_type": "code",
   "execution_count": 7,
   "id": "f5fec11e",
   "metadata": {},
   "outputs": [
    {
     "data": {
      "text/plain": [
       "id                                    0\n",
       "name                                  0\n",
       "host_id                               0\n",
       "host_name                            37\n",
       "neighbourhood_group               11950\n",
       "neighbourhood                         0\n",
       "latitude                              0\n",
       "longitude                             0\n",
       "room_type                             0\n",
       "price                                 0\n",
       "minimum_nights                        0\n",
       "number_of_reviews                     0\n",
       "last_review                        2450\n",
       "reviews_per_month                  2450\n",
       "calculated_host_listings_count        0\n",
       "availability_365                      0\n",
       "number_of_reviews_ltm                 0\n",
       "license                           11949\n",
       "dtype: int64"
      ]
     },
     "execution_count": 7,
     "metadata": {},
     "output_type": "execute_result"
    }
   ],
   "source": [
    "df_airbnb.isnull().sum()"
   ]
  },
  {
   "cell_type": "markdown",
   "id": "4c7691fb",
   "metadata": {},
   "source": [
    "# 2. Cleaning procedures"
   ]
  },
  {
   "cell_type": "markdown",
   "id": "4ee830ba",
   "metadata": {},
   "source": [
    "Dropping columns:\n",
    "- 'host_name': the host's name combined with the property's id may implicate some personal identifications issues thus will be dropped\n",
    "- 'neighbourhood_group' and 'license': both columns are empty thus will be dropped\n",
    "- 'name': this variable will be dropped now but may be used for textual analysis in Tableau\n",
    "\n",
    "\n",
    "Renaming columns:\n",
    "- 'id': means 'property_id' thus will be renamed as such\n",
    "\n",
    "\n",
    "Missing values:\n",
    "- in the columns 'last_review' and 'reviews_per_month' there is an equal count of missing values which indicates that 2450 properties haven't been reviewed yet thus these values will not be addressed\n",
    "\n",
    "Mixed data types and duplicates will be checked below."
   ]
  },
  {
   "cell_type": "code",
   "execution_count": 9,
   "id": "eba56731",
   "metadata": {},
   "outputs": [],
   "source": [
    "# dropping the columns\n",
    "\n",
    "df_airbnb.drop(columns = ['name','host_name','neighbourhood_group', 'license'], inplace = True)"
   ]
  },
  {
   "cell_type": "code",
   "execution_count": 13,
   "id": "25e3de3c",
   "metadata": {},
   "outputs": [
    {
     "data": {
      "text/html": [
       "<div>\n",
       "<style scoped>\n",
       "    .dataframe tbody tr th:only-of-type {\n",
       "        vertical-align: middle;\n",
       "    }\n",
       "\n",
       "    .dataframe tbody tr th {\n",
       "        vertical-align: top;\n",
       "    }\n",
       "\n",
       "    .dataframe thead th {\n",
       "        text-align: right;\n",
       "    }\n",
       "</style>\n",
       "<table border=\"1\" class=\"dataframe\">\n",
       "  <thead>\n",
       "    <tr style=\"text-align: right;\">\n",
       "      <th></th>\n",
       "      <th>property_id</th>\n",
       "      <th>collection_date</th>\n",
       "      <th>listing_name</th>\n",
       "      <th>host_id</th>\n",
       "      <th>neighbourhood</th>\n",
       "      <th>latitude</th>\n",
       "      <th>longitude</th>\n",
       "      <th>room_type</th>\n",
       "      <th>price</th>\n",
       "      <th>minimum_nights</th>\n",
       "      <th>number_of_reviews</th>\n",
       "      <th>last_review</th>\n",
       "      <th>reviews_per_month</th>\n",
       "      <th>calculated_host_listings_count</th>\n",
       "      <th>availability_365</th>\n",
       "      <th>number_of_reviews_ltm</th>\n",
       "    </tr>\n",
       "  </thead>\n",
       "  <tbody>\n",
       "    <tr>\n",
       "      <th>0</th>\n",
       "      <td>57818</td>\n",
       "      <td>2021_09</td>\n",
       "      <td>Private house close to the beach!</td>\n",
       "      <td>275948</td>\n",
       "      <td>Hollywood</td>\n",
       "      <td>26.01670</td>\n",
       "      <td>-80.12437</td>\n",
       "      <td>Entire home/apt</td>\n",
       "      <td>191</td>\n",
       "      <td>2</td>\n",
       "      <td>55</td>\n",
       "      <td>8/1/2021</td>\n",
       "      <td>0.56</td>\n",
       "      <td>1</td>\n",
       "      <td>359</td>\n",
       "      <td>14</td>\n",
       "    </tr>\n",
       "    <tr>\n",
       "      <th>1</th>\n",
       "      <td>69824</td>\n",
       "      <td>2021_09</td>\n",
       "      <td>2 bd/2ba Oceanfront Condo</td>\n",
       "      <td>351303</td>\n",
       "      <td>Hallandale Beach</td>\n",
       "      <td>25.97641</td>\n",
       "      <td>-80.12052</td>\n",
       "      <td>Entire home/apt</td>\n",
       "      <td>110</td>\n",
       "      <td>30</td>\n",
       "      <td>2</td>\n",
       "      <td>3/27/2021</td>\n",
       "      <td>0.05</td>\n",
       "      <td>2</td>\n",
       "      <td>201</td>\n",
       "      <td>1</td>\n",
       "    </tr>\n",
       "    <tr>\n",
       "      <th>2</th>\n",
       "      <td>83449</td>\n",
       "      <td>2021_09</td>\n",
       "      <td>MARY POP APTS 2/1 APT SLEEP 5</td>\n",
       "      <td>454736</td>\n",
       "      <td>Dania Beach</td>\n",
       "      <td>26.03392</td>\n",
       "      <td>-80.14201</td>\n",
       "      <td>Entire home/apt</td>\n",
       "      <td>99</td>\n",
       "      <td>7</td>\n",
       "      <td>20</td>\n",
       "      <td>1/26/2020</td>\n",
       "      <td>0.17</td>\n",
       "      <td>8</td>\n",
       "      <td>119</td>\n",
       "      <td>0</td>\n",
       "    </tr>\n",
       "    <tr>\n",
       "      <th>3</th>\n",
       "      <td>105411</td>\n",
       "      <td>2021_09</td>\n",
       "      <td>House in the Ranches</td>\n",
       "      <td>532930</td>\n",
       "      <td>Southwest Ranches</td>\n",
       "      <td>26.04678</td>\n",
       "      <td>-80.36809</td>\n",
       "      <td>Entire home/apt</td>\n",
       "      <td>235</td>\n",
       "      <td>4</td>\n",
       "      <td>5</td>\n",
       "      <td>8/27/2012</td>\n",
       "      <td>0.05</td>\n",
       "      <td>1</td>\n",
       "      <td>116</td>\n",
       "      <td>0</td>\n",
       "    </tr>\n",
       "    <tr>\n",
       "      <th>4</th>\n",
       "      <td>129061</td>\n",
       "      <td>2021_09</td>\n",
       "      <td>MIAMI - LUXURY APARTMENT OVER BEACH</td>\n",
       "      <td>637272</td>\n",
       "      <td>Hollywood</td>\n",
       "      <td>25.99332</td>\n",
       "      <td>-80.11887</td>\n",
       "      <td>Entire home/apt</td>\n",
       "      <td>250</td>\n",
       "      <td>20</td>\n",
       "      <td>18</td>\n",
       "      <td>3/26/2021</td>\n",
       "      <td>0.16</td>\n",
       "      <td>6</td>\n",
       "      <td>364</td>\n",
       "      <td>3</td>\n",
       "    </tr>\n",
       "  </tbody>\n",
       "</table>\n",
       "</div>"
      ],
      "text/plain": [
       "   property_id collection_date                         listing_name  host_id  \\\n",
       "0        57818         2021_09    Private house close to the beach!   275948   \n",
       "1        69824         2021_09            2 bd/2ba Oceanfront Condo   351303   \n",
       "2        83449         2021_09        MARY POP APTS 2/1 APT SLEEP 5   454736   \n",
       "3       105411         2021_09                 House in the Ranches   532930   \n",
       "4       129061         2021_09  MIAMI - LUXURY APARTMENT OVER BEACH   637272   \n",
       "\n",
       "       neighbourhood  latitude  longitude        room_type  price  \\\n",
       "0          Hollywood  26.01670  -80.12437  Entire home/apt    191   \n",
       "1   Hallandale Beach  25.97641  -80.12052  Entire home/apt    110   \n",
       "2        Dania Beach  26.03392  -80.14201  Entire home/apt     99   \n",
       "3  Southwest Ranches  26.04678  -80.36809  Entire home/apt    235   \n",
       "4          Hollywood  25.99332  -80.11887  Entire home/apt    250   \n",
       "\n",
       "   minimum_nights  number_of_reviews last_review  reviews_per_month  \\\n",
       "0               2                 55    8/1/2021               0.56   \n",
       "1              30                  2   3/27/2021               0.05   \n",
       "2               7                 20   1/26/2020               0.17   \n",
       "3               4                  5   8/27/2012               0.05   \n",
       "4              20                 18   3/26/2021               0.16   \n",
       "\n",
       "   calculated_host_listings_count  availability_365  number_of_reviews_ltm  \n",
       "0                               1               359                     14  \n",
       "1                               2               201                      1  \n",
       "2                               8               119                      0  \n",
       "3                               1               116                      0  \n",
       "4                               6               364                      3  "
      ]
     },
     "execution_count": 13,
     "metadata": {},
     "output_type": "execute_result"
    }
   ],
   "source": [
    "df_airbnb.head()"
   ]
  },
  {
   "cell_type": "code",
   "execution_count": 10,
   "id": "34638538",
   "metadata": {},
   "outputs": [],
   "source": [
    "# renaming the columns\n",
    "\n",
    "df_airbnb.rename(columns = {'id' : 'property_id'}, inplace = True)"
   ]
  },
  {
   "cell_type": "code",
   "execution_count": 11,
   "id": "91356b91",
   "metadata": {},
   "outputs": [
    {
     "data": {
      "text/html": [
       "<div>\n",
       "<style scoped>\n",
       "    .dataframe tbody tr th:only-of-type {\n",
       "        vertical-align: middle;\n",
       "    }\n",
       "\n",
       "    .dataframe tbody tr th {\n",
       "        vertical-align: top;\n",
       "    }\n",
       "\n",
       "    .dataframe thead th {\n",
       "        text-align: right;\n",
       "    }\n",
       "</style>\n",
       "<table border=\"1\" class=\"dataframe\">\n",
       "  <thead>\n",
       "    <tr style=\"text-align: right;\">\n",
       "      <th></th>\n",
       "      <th>property_id</th>\n",
       "      <th>host_id</th>\n",
       "      <th>neighbourhood</th>\n",
       "      <th>latitude</th>\n",
       "      <th>longitude</th>\n",
       "      <th>room_type</th>\n",
       "      <th>price</th>\n",
       "      <th>minimum_nights</th>\n",
       "      <th>number_of_reviews</th>\n",
       "      <th>last_review</th>\n",
       "      <th>reviews_per_month</th>\n",
       "      <th>calculated_host_listings_count</th>\n",
       "      <th>availability_365</th>\n",
       "      <th>number_of_reviews_ltm</th>\n",
       "    </tr>\n",
       "  </thead>\n",
       "  <tbody>\n",
       "    <tr>\n",
       "      <th>0</th>\n",
       "      <td>57818</td>\n",
       "      <td>275948</td>\n",
       "      <td>Hollywood</td>\n",
       "      <td>26.01670</td>\n",
       "      <td>-80.12437</td>\n",
       "      <td>Entire home/apt</td>\n",
       "      <td>191</td>\n",
       "      <td>2</td>\n",
       "      <td>55</td>\n",
       "      <td>8/1/2021</td>\n",
       "      <td>0.56</td>\n",
       "      <td>1</td>\n",
       "      <td>359</td>\n",
       "      <td>14</td>\n",
       "    </tr>\n",
       "    <tr>\n",
       "      <th>1</th>\n",
       "      <td>69824</td>\n",
       "      <td>351303</td>\n",
       "      <td>Hallandale Beach</td>\n",
       "      <td>25.97641</td>\n",
       "      <td>-80.12052</td>\n",
       "      <td>Entire home/apt</td>\n",
       "      <td>110</td>\n",
       "      <td>30</td>\n",
       "      <td>2</td>\n",
       "      <td>3/27/2021</td>\n",
       "      <td>0.05</td>\n",
       "      <td>2</td>\n",
       "      <td>201</td>\n",
       "      <td>1</td>\n",
       "    </tr>\n",
       "    <tr>\n",
       "      <th>2</th>\n",
       "      <td>83449</td>\n",
       "      <td>454736</td>\n",
       "      <td>Dania Beach</td>\n",
       "      <td>26.03392</td>\n",
       "      <td>-80.14201</td>\n",
       "      <td>Entire home/apt</td>\n",
       "      <td>99</td>\n",
       "      <td>7</td>\n",
       "      <td>20</td>\n",
       "      <td>1/26/2020</td>\n",
       "      <td>0.17</td>\n",
       "      <td>8</td>\n",
       "      <td>119</td>\n",
       "      <td>0</td>\n",
       "    </tr>\n",
       "    <tr>\n",
       "      <th>3</th>\n",
       "      <td>105411</td>\n",
       "      <td>532930</td>\n",
       "      <td>Southwest Ranches</td>\n",
       "      <td>26.04678</td>\n",
       "      <td>-80.36809</td>\n",
       "      <td>Entire home/apt</td>\n",
       "      <td>235</td>\n",
       "      <td>4</td>\n",
       "      <td>5</td>\n",
       "      <td>8/27/2012</td>\n",
       "      <td>0.05</td>\n",
       "      <td>1</td>\n",
       "      <td>116</td>\n",
       "      <td>0</td>\n",
       "    </tr>\n",
       "    <tr>\n",
       "      <th>4</th>\n",
       "      <td>129061</td>\n",
       "      <td>637272</td>\n",
       "      <td>Hollywood</td>\n",
       "      <td>25.99332</td>\n",
       "      <td>-80.11887</td>\n",
       "      <td>Entire home/apt</td>\n",
       "      <td>250</td>\n",
       "      <td>20</td>\n",
       "      <td>18</td>\n",
       "      <td>3/26/2021</td>\n",
       "      <td>0.16</td>\n",
       "      <td>6</td>\n",
       "      <td>364</td>\n",
       "      <td>3</td>\n",
       "    </tr>\n",
       "  </tbody>\n",
       "</table>\n",
       "</div>"
      ],
      "text/plain": [
       "   property_id  host_id      neighbourhood  latitude  longitude  \\\n",
       "0        57818   275948          Hollywood  26.01670  -80.12437   \n",
       "1        69824   351303   Hallandale Beach  25.97641  -80.12052   \n",
       "2        83449   454736        Dania Beach  26.03392  -80.14201   \n",
       "3       105411   532930  Southwest Ranches  26.04678  -80.36809   \n",
       "4       129061   637272          Hollywood  25.99332  -80.11887   \n",
       "\n",
       "         room_type  price  minimum_nights  number_of_reviews last_review  \\\n",
       "0  Entire home/apt    191               2                 55    8/1/2021   \n",
       "1  Entire home/apt    110              30                  2   3/27/2021   \n",
       "2  Entire home/apt     99               7                 20   1/26/2020   \n",
       "3  Entire home/apt    235               4                  5   8/27/2012   \n",
       "4  Entire home/apt    250              20                 18   3/26/2021   \n",
       "\n",
       "   reviews_per_month  calculated_host_listings_count  availability_365  \\\n",
       "0               0.56                               1               359   \n",
       "1               0.05                               2               201   \n",
       "2               0.17                               8               119   \n",
       "3               0.05                               1               116   \n",
       "4               0.16                               6               364   \n",
       "\n",
       "   number_of_reviews_ltm  \n",
       "0                     14  \n",
       "1                      1  \n",
       "2                      0  \n",
       "3                      0  \n",
       "4                      3  "
      ]
     },
     "execution_count": 11,
     "metadata": {},
     "output_type": "execute_result"
    }
   ],
   "source": [
    "df_airbnb.head()"
   ]
  },
  {
   "cell_type": "code",
   "execution_count": 12,
   "id": "25893fb7",
   "metadata": {},
   "outputs": [
    {
     "name": "stdout",
     "output_type": "stream",
     "text": [
      "last_review\n"
     ]
    }
   ],
   "source": [
    "# mixed-data type\n",
    "\n",
    "for col in df_airbnb.columns.tolist():\n",
    "  weird = (df_airbnb[[col]].applymap(type) != df_airbnb[[col]].iloc[0].apply(type)).any(axis = 1)\n",
    "  if len (df_airbnb[weird]) > 0:\n",
    "    print (col)"
   ]
  },
  {
   "cell_type": "code",
   "execution_count": null,
   "id": "f5d6547d",
   "metadata": {},
   "outputs": [],
   "source": [
    "# the 2450 observations have empty cells with no date for the last review and are recognized as mixed-data type; this issue will not be addressed"
   ]
  },
  {
   "cell_type": "code",
   "execution_count": 13,
   "id": "6b9b266f",
   "metadata": {},
   "outputs": [],
   "source": [
    "# duplicates\n",
    "\n",
    "df_airbnb_dups = df_airbnb[df_airbnb.duplicated()]"
   ]
  },
  {
   "cell_type": "code",
   "execution_count": 14,
   "id": "2c52ec0b",
   "metadata": {},
   "outputs": [
    {
     "data": {
      "text/html": [
       "<div>\n",
       "<style scoped>\n",
       "    .dataframe tbody tr th:only-of-type {\n",
       "        vertical-align: middle;\n",
       "    }\n",
       "\n",
       "    .dataframe tbody tr th {\n",
       "        vertical-align: top;\n",
       "    }\n",
       "\n",
       "    .dataframe thead th {\n",
       "        text-align: right;\n",
       "    }\n",
       "</style>\n",
       "<table border=\"1\" class=\"dataframe\">\n",
       "  <thead>\n",
       "    <tr style=\"text-align: right;\">\n",
       "      <th></th>\n",
       "      <th>property_id</th>\n",
       "      <th>host_id</th>\n",
       "      <th>neighbourhood</th>\n",
       "      <th>latitude</th>\n",
       "      <th>longitude</th>\n",
       "      <th>room_type</th>\n",
       "      <th>price</th>\n",
       "      <th>minimum_nights</th>\n",
       "      <th>number_of_reviews</th>\n",
       "      <th>last_review</th>\n",
       "      <th>reviews_per_month</th>\n",
       "      <th>calculated_host_listings_count</th>\n",
       "      <th>availability_365</th>\n",
       "      <th>number_of_reviews_ltm</th>\n",
       "    </tr>\n",
       "  </thead>\n",
       "  <tbody>\n",
       "  </tbody>\n",
       "</table>\n",
       "</div>"
      ],
      "text/plain": [
       "Empty DataFrame\n",
       "Columns: [property_id, host_id, neighbourhood, latitude, longitude, room_type, price, minimum_nights, number_of_reviews, last_review, reviews_per_month, calculated_host_listings_count, availability_365, number_of_reviews_ltm]\n",
       "Index: []"
      ]
     },
     "execution_count": 14,
     "metadata": {},
     "output_type": "execute_result"
    }
   ],
   "source": [
    "df_airbnb_dups\n",
    "\n",
    "# no duplicates found"
   ]
  },
  {
   "cell_type": "markdown",
   "id": "e68dd715",
   "metadata": {},
   "source": [
    "# 3. Understanding the data"
   ]
  },
  {
   "cell_type": "code",
   "execution_count": 15,
   "id": "24624dca",
   "metadata": {},
   "outputs": [],
   "source": [
    "# changing numeric data types into categorical columns so that they do not come up in the descriptive statistics\n",
    "\n",
    "df_airbnb['property_id'] = df_airbnb['property_id'].astype('object')\n",
    "df_airbnb['host_id'] = df_airbnb['host_id'].astype('object')"
   ]
  },
  {
   "cell_type": "code",
   "execution_count": 16,
   "id": "abbd6bd6",
   "metadata": {},
   "outputs": [
    {
     "name": "stdout",
     "output_type": "stream",
     "text": [
      "<class 'pandas.core.frame.DataFrame'>\n",
      "RangeIndex: 11950 entries, 0 to 11949\n",
      "Data columns (total 14 columns):\n",
      " #   Column                          Non-Null Count  Dtype  \n",
      "---  ------                          --------------  -----  \n",
      " 0   property_id                     11950 non-null  object \n",
      " 1   host_id                         11950 non-null  object \n",
      " 2   neighbourhood                   11950 non-null  object \n",
      " 3   latitude                        11950 non-null  float64\n",
      " 4   longitude                       11950 non-null  float64\n",
      " 5   room_type                       11950 non-null  object \n",
      " 6   price                           11950 non-null  int64  \n",
      " 7   minimum_nights                  11950 non-null  int64  \n",
      " 8   number_of_reviews               11950 non-null  int64  \n",
      " 9   last_review                     9500 non-null   object \n",
      " 10  reviews_per_month               9500 non-null   float64\n",
      " 11  calculated_host_listings_count  11950 non-null  int64  \n",
      " 12  availability_365                11950 non-null  int64  \n",
      " 13  number_of_reviews_ltm           11950 non-null  int64  \n",
      "dtypes: float64(3), int64(6), object(5)\n",
      "memory usage: 1.3+ MB\n"
     ]
    }
   ],
   "source": [
    "df_airbnb.info()"
   ]
  },
  {
   "cell_type": "code",
   "execution_count": 17,
   "id": "06fff42a",
   "metadata": {},
   "outputs": [
    {
     "data": {
      "text/html": [
       "<div>\n",
       "<style scoped>\n",
       "    .dataframe tbody tr th:only-of-type {\n",
       "        vertical-align: middle;\n",
       "    }\n",
       "\n",
       "    .dataframe tbody tr th {\n",
       "        vertical-align: top;\n",
       "    }\n",
       "\n",
       "    .dataframe thead th {\n",
       "        text-align: right;\n",
       "    }\n",
       "</style>\n",
       "<table border=\"1\" class=\"dataframe\">\n",
       "  <thead>\n",
       "    <tr style=\"text-align: right;\">\n",
       "      <th></th>\n",
       "      <th>latitude</th>\n",
       "      <th>longitude</th>\n",
       "      <th>price</th>\n",
       "      <th>minimum_nights</th>\n",
       "      <th>number_of_reviews</th>\n",
       "      <th>reviews_per_month</th>\n",
       "      <th>calculated_host_listings_count</th>\n",
       "      <th>availability_365</th>\n",
       "      <th>number_of_reviews_ltm</th>\n",
       "    </tr>\n",
       "  </thead>\n",
       "  <tbody>\n",
       "    <tr>\n",
       "      <th>count</th>\n",
       "      <td>11950.000000</td>\n",
       "      <td>11950.000000</td>\n",
       "      <td>11950.000000</td>\n",
       "      <td>11950.000000</td>\n",
       "      <td>11950.000000</td>\n",
       "      <td>9500.000000</td>\n",
       "      <td>11950.000000</td>\n",
       "      <td>11950.000000</td>\n",
       "      <td>11950.000000</td>\n",
       "    </tr>\n",
       "    <tr>\n",
       "      <th>mean</th>\n",
       "      <td>26.101677</td>\n",
       "      <td>-80.145346</td>\n",
       "      <td>226.395900</td>\n",
       "      <td>5.820084</td>\n",
       "      <td>24.681004</td>\n",
       "      <td>2.987657</td>\n",
       "      <td>14.292552</td>\n",
       "      <td>208.734728</td>\n",
       "      <td>10.555565</td>\n",
       "    </tr>\n",
       "    <tr>\n",
       "      <th>std</th>\n",
       "      <td>0.100753</td>\n",
       "      <td>0.058171</td>\n",
       "      <td>371.189397</td>\n",
       "      <td>17.780007</td>\n",
       "      <td>44.917039</td>\n",
       "      <td>5.820630</td>\n",
       "      <td>25.210386</td>\n",
       "      <td>118.581682</td>\n",
       "      <td>15.602618</td>\n",
       "    </tr>\n",
       "    <tr>\n",
       "      <th>min</th>\n",
       "      <td>25.957550</td>\n",
       "      <td>-80.419220</td>\n",
       "      <td>0.000000</td>\n",
       "      <td>1.000000</td>\n",
       "      <td>0.000000</td>\n",
       "      <td>0.010000</td>\n",
       "      <td>1.000000</td>\n",
       "      <td>0.000000</td>\n",
       "      <td>0.000000</td>\n",
       "    </tr>\n",
       "    <tr>\n",
       "      <th>25%</th>\n",
       "      <td>26.005675</td>\n",
       "      <td>-80.155268</td>\n",
       "      <td>91.000000</td>\n",
       "      <td>1.000000</td>\n",
       "      <td>1.000000</td>\n",
       "      <td>0.540000</td>\n",
       "      <td>1.000000</td>\n",
       "      <td>90.000000</td>\n",
       "      <td>0.000000</td>\n",
       "    </tr>\n",
       "    <tr>\n",
       "      <th>50%</th>\n",
       "      <td>26.108410</td>\n",
       "      <td>-80.124553</td>\n",
       "      <td>148.000000</td>\n",
       "      <td>2.000000</td>\n",
       "      <td>8.000000</td>\n",
       "      <td>1.430000</td>\n",
       "      <td>4.000000</td>\n",
       "      <td>215.000000</td>\n",
       "      <td>4.000000</td>\n",
       "    </tr>\n",
       "    <tr>\n",
       "      <th>75%</th>\n",
       "      <td>26.175317</td>\n",
       "      <td>-80.115980</td>\n",
       "      <td>243.000000</td>\n",
       "      <td>4.000000</td>\n",
       "      <td>29.000000</td>\n",
       "      <td>3.152500</td>\n",
       "      <td>14.750000</td>\n",
       "      <td>325.000000</td>\n",
       "      <td>15.000000</td>\n",
       "    </tr>\n",
       "    <tr>\n",
       "      <th>max</th>\n",
       "      <td>26.333410</td>\n",
       "      <td>-80.075020</td>\n",
       "      <td>10000.000000</td>\n",
       "      <td>500.000000</td>\n",
       "      <td>599.000000</td>\n",
       "      <td>125.000000</td>\n",
       "      <td>146.000000</td>\n",
       "      <td>365.000000</td>\n",
       "      <td>278.000000</td>\n",
       "    </tr>\n",
       "  </tbody>\n",
       "</table>\n",
       "</div>"
      ],
      "text/plain": [
       "           latitude     longitude         price  minimum_nights  \\\n",
       "count  11950.000000  11950.000000  11950.000000    11950.000000   \n",
       "mean      26.101677    -80.145346    226.395900        5.820084   \n",
       "std        0.100753      0.058171    371.189397       17.780007   \n",
       "min       25.957550    -80.419220      0.000000        1.000000   \n",
       "25%       26.005675    -80.155268     91.000000        1.000000   \n",
       "50%       26.108410    -80.124553    148.000000        2.000000   \n",
       "75%       26.175317    -80.115980    243.000000        4.000000   \n",
       "max       26.333410    -80.075020  10000.000000      500.000000   \n",
       "\n",
       "       number_of_reviews  reviews_per_month  calculated_host_listings_count  \\\n",
       "count       11950.000000        9500.000000                    11950.000000   \n",
       "mean           24.681004           2.987657                       14.292552   \n",
       "std            44.917039           5.820630                       25.210386   \n",
       "min             0.000000           0.010000                        1.000000   \n",
       "25%             1.000000           0.540000                        1.000000   \n",
       "50%             8.000000           1.430000                        4.000000   \n",
       "75%            29.000000           3.152500                       14.750000   \n",
       "max           599.000000         125.000000                      146.000000   \n",
       "\n",
       "       availability_365  number_of_reviews_ltm  \n",
       "count      11950.000000           11950.000000  \n",
       "mean         208.734728              10.555565  \n",
       "std          118.581682              15.602618  \n",
       "min            0.000000               0.000000  \n",
       "25%           90.000000               0.000000  \n",
       "50%          215.000000               4.000000  \n",
       "75%          325.000000              15.000000  \n",
       "max          365.000000             278.000000  "
      ]
     },
     "execution_count": 17,
     "metadata": {},
     "output_type": "execute_result"
    }
   ],
   "source": [
    "# descriptive statistics\n",
    "\n",
    "df_airbnb.describe()"
   ]
  },
  {
   "cell_type": "markdown",
   "id": "9c75fce4",
   "metadata": {},
   "source": [
    "PRICE"
   ]
  },
  {
   "cell_type": "markdown",
   "id": "c4c37933",
   "metadata": {},
   "source": [
    "The average price per night is 226 for the column; there are observations with a minimal value of 0 and 10.000 per night which seems to be odd; those few high values seem to be outliers and skew the distribution to the right."
   ]
  },
  {
   "cell_type": "code",
   "execution_count": 18,
   "id": "9a508c79",
   "metadata": {},
   "outputs": [
    {
     "data": {
      "text/plain": [
       "150     176\n",
       "100     160\n",
       "99      143\n",
       "80      138\n",
       "120     138\n",
       "       ... \n",
       "17        1\n",
       "1069      1\n",
       "1283      1\n",
       "1083      1\n",
       "1149      1\n",
       "Name: price, Length: 857, dtype: int64"
      ]
     },
     "execution_count": 18,
     "metadata": {},
     "output_type": "execute_result"
    }
   ],
   "source": [
    "df_airbnb['price'].value_counts(dropna = False)"
   ]
  },
  {
   "cell_type": "code",
   "execution_count": 19,
   "id": "024264ed",
   "metadata": {},
   "outputs": [
    {
     "data": {
      "image/png": "[encoded data removed]",
      "text/plain": [
       "<Figure size 432x288 with 1 Axes>"
      ]
     },
     "metadata": {
      "needs_background": "light"
     },
     "output_type": "display_data"
    }
   ],
   "source": [
    "df_price = df_airbnb['price'].plot.hist(bins = 250)"
   ]
  },
  {
   "cell_type": "code",
   "execution_count": 20,
   "id": "193261b2",
   "metadata": {},
   "outputs": [],
   "source": [
    "import matplotlib.pyplot as plt\n",
    "import seaborn as sns\n",
    "import scipy"
   ]
  },
  {
   "cell_type": "code",
   "execution_count": 21,
   "id": "3baa8b03",
   "metadata": {},
   "outputs": [
    {
     "data": {
      "image/png": "[encoded data removed]",
      "text/plain": [
       "<Figure size 432x288 with 1 Axes>"
      ]
     },
     "metadata": {
      "needs_background": "light"
     },
     "output_type": "display_data"
    }
   ],
   "source": [
    "scatter_price = sns.scatterplot(x = 'price', y = 'price', data = df_airbnb)"
   ]
  },
  {
   "cell_type": "markdown",
   "id": "44626c62",
   "metadata": {},
   "source": [
    "MINIMUM NIGTHS STAY"
   ]
  },
  {
   "cell_type": "markdown",
   "id": "2a8843e1",
   "metadata": {},
   "source": [
    "The average minimum stay is 5 nights; the most common number of minimum nights is 1, followed by 2 and 3; there are some odd values with a minimum stay of 300 or 500 and, as outliers, they drive the mean high up. "
   ]
  },
  {
   "cell_type": "code",
   "execution_count": 22,
   "id": "90eb4a1d",
   "metadata": {},
   "outputs": [
    {
     "data": {
      "text/plain": [
       "1      3543\n",
       "2      2757\n",
       "3      2420\n",
       "4       858\n",
       "5       638\n",
       "7       604\n",
       "30      380\n",
       "6       159\n",
       "14       91\n",
       "90       77\n",
       "28       71\n",
       "10       60\n",
       "21       32\n",
       "15       30\n",
       "60       27\n",
       "180      27\n",
       "20       22\n",
       "120      20\n",
       "29       18\n",
       "31       17\n",
       "25       12\n",
       "13        9\n",
       "32        9\n",
       "27        6\n",
       "12        6\n",
       "56        5\n",
       "8         5\n",
       "9         5\n",
       "365       4\n",
       "150       3\n",
       "26        3\n",
       "58        3\n",
       "210       3\n",
       "184       2\n",
       "360       2\n",
       "45        2\n",
       "80        2\n",
       "24        2\n",
       "84        1\n",
       "70        1\n",
       "333       1\n",
       "130       1\n",
       "18        1\n",
       "35        1\n",
       "181       1\n",
       "61        1\n",
       "93        1\n",
       "91        1\n",
       "300       1\n",
       "500       1\n",
       "183       1\n",
       "50        1\n",
       "118       1\n",
       "17        1\n",
       "Name: minimum_nights, dtype: int64"
      ]
     },
     "execution_count": 22,
     "metadata": {},
     "output_type": "execute_result"
    }
   ],
   "source": [
    "df_airbnb['minimum_nights'].value_counts(dropna = False)"
   ]
  },
  {
   "cell_type": "code",
   "execution_count": 23,
   "id": "bfab95cd",
   "metadata": {},
   "outputs": [
    {
     "data": {
      "image/png": "[encoded data removed]",
      "text/plain": [
       "<Figure size 432x288 with 1 Axes>"
      ]
     },
     "metadata": {
      "needs_background": "light"
     },
     "output_type": "display_data"
    }
   ],
   "source": [
    "df_minstay = df_airbnb['minimum_nights'].plot.hist(bins = 250)\n",
    "\n",
    "# There are many strange values in this column, for example the property is offered for minimum stay of 500 nights"
   ]
  },
  {
   "cell_type": "code",
   "execution_count": 24,
   "id": "05410325",
   "metadata": {},
   "outputs": [
    {
     "data": {
      "image/png": "[encoded data removed]",
      "text/plain": [
       "<Figure size 432x288 with 1 Axes>"
      ]
     },
     "metadata": {
      "needs_background": "light"
     },
     "output_type": "display_data"
    }
   ],
   "source": [
    "scatter_minstay = sns.scatterplot(x = 'minimum_nights', y = 'minimum_nights', data = df_airbnb)"
   ]
  },
  {
   "cell_type": "code",
   "execution_count": null,
   "id": "402db470",
   "metadata": {},
   "outputs": [],
   "source": []
  },
  {
   "cell_type": "markdown",
   "id": "94085057",
   "metadata": {},
   "source": [
    "NUMBER OF REVIEWS"
   ]
  },
  {
   "cell_type": "markdown",
   "id": "763a1d47",
   "metadata": {},
   "source": [
    "The average number of reviews is 24; from the cleaning operation I know that the column has 2450 cells with no review and 0 is the mode, followed by the next common values of 1 and 2 reviews. In this column, I noticed many odd values with its record number of reviews of 599."
   ]
  },
  {
   "cell_type": "code",
   "execution_count": 25,
   "id": "b9c4c864",
   "metadata": {},
   "outputs": [
    {
     "data": {
      "text/plain": [
       "0      2450\n",
       "1       962\n",
       "2       686\n",
       "3       488\n",
       "4       449\n",
       "       ... \n",
       "338       1\n",
       "246       1\n",
       "320       1\n",
       "362       1\n",
       "273       1\n",
       "Name: number_of_reviews, Length: 305, dtype: int64"
      ]
     },
     "execution_count": 25,
     "metadata": {},
     "output_type": "execute_result"
    }
   ],
   "source": [
    "df_airbnb['number_of_reviews'].value_counts(dropna = False)"
   ]
  },
  {
   "cell_type": "code",
   "execution_count": 26,
   "id": "055d1268",
   "metadata": {},
   "outputs": [
    {
     "data": {
      "image/png": "[encoded data removed]",
      "text/plain": [
       "<Figure size 432x288 with 1 Axes>"
      ]
     },
     "metadata": {
      "needs_background": "light"
     },
     "output_type": "display_data"
    }
   ],
   "source": [
    "df_reviews = df_airbnb['number_of_reviews'].plot.hist(bins = 250)"
   ]
  },
  {
   "cell_type": "code",
   "execution_count": 27,
   "id": "e16ed0ef",
   "metadata": {},
   "outputs": [
    {
     "data": {
      "image/png": "[encoded data removed]",
      "text/plain": [
       "<Figure size 432x288 with 1 Axes>"
      ]
     },
     "metadata": {
      "needs_background": "light"
     },
     "output_type": "display_data"
    }
   ],
   "source": [
    "scatter_reviews = sns.scatterplot(x = 'number_of_reviews', y = 'number_of_reviews', data = df_airbnb)"
   ]
  },
  {
   "cell_type": "markdown",
   "id": "de433d15",
   "metadata": {},
   "source": [
    "The number of reviews per month is a calculated field with an average of almost 3 for the column. Extremely strange is the maximum value of 125 reviews per month where the maximum rental occupancy of one property logically cannot exceed the number of nights in a given month."
   ]
  },
  {
   "cell_type": "markdown",
   "id": "13076668",
   "metadata": {},
   "source": [
    "LISTINGS PER HOST"
   ]
  },
  {
   "cell_type": "markdown",
   "id": "d0cbe7d1",
   "metadata": {},
   "source": [
    "The calculated field for the number of listings owned by the same host shows the average value of 14 listings per host. The maximum number of listings of 146 per host seems to be unmanageable by one owner."
   ]
  },
  {
   "cell_type": "code",
   "execution_count": 28,
   "id": "9b0b4ba6",
   "metadata": {},
   "outputs": [
    {
     "data": {
      "text/plain": [
       "1      3437\n",
       "2      1476\n",
       "3       882\n",
       "4       652\n",
       "5       560\n",
       "6       420\n",
       "7       294\n",
       "11      231\n",
       "8       216\n",
       "16      192\n",
       "10      190\n",
       "18      180\n",
       "12      168\n",
       "55      165\n",
       "9       153\n",
       "19      152\n",
       "146     146\n",
       "13      143\n",
       "14      140\n",
       "27      135\n",
       "117     117\n",
       "56      112\n",
       "36      108\n",
       "103     103\n",
       "51      102\n",
       "49       98\n",
       "31       93\n",
       "23       92\n",
       "15       90\n",
       "24       72\n",
       "71       71\n",
       "69       69\n",
       "17       68\n",
       "63       63\n",
       "30       60\n",
       "53       53\n",
       "26       52\n",
       "52       52\n",
       "25       50\n",
       "50       50\n",
       "48       48\n",
       "45       45\n",
       "22       44\n",
       "43       43\n",
       "21       42\n",
       "40       40\n",
       "38       38\n",
       "34       34\n",
       "32       32\n",
       "29       29\n",
       "28       28\n",
       "20       20\n",
       "Name: calculated_host_listings_count, dtype: int64"
      ]
     },
     "execution_count": 28,
     "metadata": {},
     "output_type": "execute_result"
    }
   ],
   "source": [
    "df_airbnb['calculated_host_listings_count'].value_counts(dropna = False)"
   ]
  },
  {
   "cell_type": "code",
   "execution_count": 29,
   "id": "a5564ca8",
   "metadata": {},
   "outputs": [
    {
     "data": {
      "image/png": "[encoded data removed]",
      "text/plain": [
       "<Figure size 432x288 with 1 Axes>"
      ]
     },
     "metadata": {
      "needs_background": "light"
     },
     "output_type": "display_data"
    }
   ],
   "source": [
    "df_hostlist = df_airbnb['calculated_host_listings_count'].plot.hist(bins = 250)"
   ]
  },
  {
   "cell_type": "code",
   "execution_count": 30,
   "id": "b8ab313f",
   "metadata": {},
   "outputs": [
    {
     "data": {
      "image/png": "[encoded data removed]",
      "text/plain": [
       "<Figure size 432x288 with 1 Axes>"
      ]
     },
     "metadata": {
      "needs_background": "light"
     },
     "output_type": "display_data"
    }
   ],
   "source": [
    "scatter_hostlist = sns.scatterplot(x = 'calculated_host_listings_count', y = 'calculated_host_listings_count', data = df_airbnb)"
   ]
  },
  {
   "cell_type": "markdown",
   "id": "0939fbd2",
   "metadata": {},
   "source": [
    "-The column ‘availability_365’ shows the number of days open in the property’s calendar for bookings for the next 12 months from the scrape date. The average is 208 days, the minimum is 0 days meaning the calendar is fully booked, and the maximum is 365."
   ]
  },
  {
   "cell_type": "markdown",
   "id": "07ce8fa0",
   "metadata": {},
   "source": [
    "NUMBER OF REVIEWS IN THE LAST 12 MONTHS"
   ]
  },
  {
   "cell_type": "markdown",
   "id": "e1c1663d",
   "metadata": {},
   "source": [
    "From the column number of reviews in the last 12 months I learned that, on average, guests left 10 reviews per property during this period. The maximum value for this field is 278. The most common value is 0, followed by 1."
   ]
  },
  {
   "cell_type": "code",
   "execution_count": 31,
   "id": "b6e1fd87",
   "metadata": {},
   "outputs": [
    {
     "data": {
      "text/plain": [
       "0      3436\n",
       "1      1007\n",
       "2       703\n",
       "3       535\n",
       "4       465\n",
       "       ... \n",
       "217       1\n",
       "100       1\n",
       "87        1\n",
       "278       1\n",
       "154       1\n",
       "Name: number_of_reviews_ltm, Length: 115, dtype: int64"
      ]
     },
     "execution_count": 31,
     "metadata": {},
     "output_type": "execute_result"
    }
   ],
   "source": [
    "df_airbnb['number_of_reviews_ltm'].value_counts(dropna = False)"
   ]
  },
  {
   "cell_type": "markdown",
   "id": "3a9d7eec",
   "metadata": {},
   "source": [
    "The 11,950 listings are hosted by 5,071 owners.\n",
    "\n",
    "All listings are divided into 34 geographical regions in Broward County, FL. \n",
    "\n",
    "11,445 observations have unique advertising descriptions meaning some use the same phrasing.\n",
    "\n",
    "Out of 4 types of property, the majority falls into the “Entire home/apt” category.\n",
    "\n",
    "All data was scraped on September 27, 2021."
   ]
  },
  {
   "cell_type": "code",
   "execution_count": 32,
   "id": "13cc5eea",
   "metadata": {},
   "outputs": [
    {
     "name": "stdout",
     "output_type": "stream",
     "text": [
      "property_id                       11950\n",
      "host_id                            5071\n",
      "neighbourhood                        34\n",
      "latitude                           8271\n",
      "longitude                          7137\n",
      "room_type                             4\n",
      "price                               857\n",
      "minimum_nights                       54\n",
      "number_of_reviews                   305\n",
      "last_review                         866\n",
      "reviews_per_month                  1185\n",
      "calculated_host_listings_count       52\n",
      "availability_365                    366\n",
      "number_of_reviews_ltm               115\n",
      "dtype: int64\n"
     ]
    }
   ],
   "source": [
    "print(df_airbnb.nunique())"
   ]
  },
  {
   "cell_type": "code",
   "execution_count": 33,
   "id": "9b07ffca",
   "metadata": {},
   "outputs": [
    {
     "data": {
      "text/plain": [
       "1833853      146\n",
       "20234196     117\n",
       "14310639     103\n",
       "174780501     71\n",
       "45914148      69\n",
       "            ... \n",
       "271945667      1\n",
       "21339490       1\n",
       "98951328       1\n",
       "12699988       1\n",
       "136226960      1\n",
       "Name: host_id, Length: 5071, dtype: int64"
      ]
     },
     "execution_count": 33,
     "metadata": {},
     "output_type": "execute_result"
    }
   ],
   "source": [
    "df_airbnb['host_id'].value_counts(dropna = False)"
   ]
  },
  {
   "cell_type": "code",
   "execution_count": 35,
   "id": "3565f65b",
   "metadata": {},
   "outputs": [
    {
     "data": {
      "text/plain": [
       "Entire home/apt    9650\n",
       "Private room       2103\n",
       "Shared room         128\n",
       "Hotel room           69\n",
       "Name: room_type, dtype: int64"
      ]
     },
     "execution_count": 35,
     "metadata": {},
     "output_type": "execute_result"
    }
   ],
   "source": [
    "df_airbnb['room_type'].value_counts(dropna = False)"
   ]
  },
  {
   "cell_type": "code",
   "execution_count": 36,
   "id": "86c664a6",
   "metadata": {},
   "outputs": [],
   "source": [
    "# exporting the wrangled set\n",
    "\n",
    "df_airbnb.to_csv(r'D:\\CareerFoundry\\Data Immersion\\Task 6\\AirBnB Broward County FL Data\\02 Data\\Prepared data\\2021_09 Airbnb Broward County_task 6_1_cleaning and understanding.csv', index=False)"
   ]
  },
  {
   "cell_type": "code",
   "execution_count": null,
   "id": "f7705954",
   "metadata": {},
   "outputs": [],
   "source": []
  }
 ],
 "metadata": {
  "kernelspec": {
   "display_name": "Python 3 (ipykernel)",
   "language": "python",
   "name": "python3"
  },
  "language_info": {
   "codemirror_mode": {
    "name": "ipython",
    "version": 3
   },
   "file_extension": ".py",
   "mimetype": "text/x-python",
   "name": "python",
   "nbconvert_exporter": "python",
   "pygments_lexer": "ipython3",
   "version": "3.8.12"
  }
 },
 "nbformat": 4,
 "nbformat_minor": 5
}
