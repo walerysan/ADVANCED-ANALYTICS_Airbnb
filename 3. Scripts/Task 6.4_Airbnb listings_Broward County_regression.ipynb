{
 "cells": [
  {
   "cell_type": "markdown",
   "id": "64f7fceb",
   "metadata": {},
   "source": [
    "## Airbnb listing Broward County, FL\n",
    "\n",
    "Task 6.4 Regression analysis\n",
    "\n",
    "Contents:\n",
    "\n",
    "1. Importing libraries and Data\n",
    "2. Data cleaning\n",
    "3. Data preparation for regression analysis\n",
    "4. Regression analysis\n",
    "5. Bonus: performance improvement after removing outliers"
   ]
  },
  {
   "cell_type": "markdown",
   "id": "85718a0a",
   "metadata": {},
   "source": [
    "# 1 Importing libraries and data"
   ]
  },
  {
   "cell_type": "code",
   "execution_count": 1,
   "id": "3ae623c4",
   "metadata": {},
   "outputs": [],
   "source": [
    "import pandas as pd\n",
    "import numpy as np\n",
    "import seaborn as sns\n",
    "import matplotlib\n",
    "import matplotlib.pyplot as plt\n",
    "import os\n",
    "import sklearn\n",
    "from sklearn.model_selection import train_test_split \n",
    "from sklearn.linear_model import LinearRegression\n",
    "from sklearn.metrics import mean_squared_error, r2_score"
   ]
  },
  {
   "cell_type": "code",
   "execution_count": 2,
   "id": "f26f0a0f",
   "metadata": {},
   "outputs": [],
   "source": [
    "df_airbnb = pd.read_csv(r'D:\\CareerFoundry\\Data Immersion\\Task 6\\AirBnB Broward County FL Data\\02 Data\\Prepared data\\2021_09 Airbnb Broward County_wrangled for distance to the beach.csv')"
   ]
  },
  {
   "cell_type": "markdown",
   "id": "94229938",
   "metadata": {},
   "source": [
    "# 2 Data cleaning"
   ]
  },
  {
   "cell_type": "code",
   "execution_count": 3,
   "id": "ac4b47d2",
   "metadata": {},
   "outputs": [
    {
     "name": "stdout",
     "output_type": "stream",
     "text": [
      "<class 'pandas.core.frame.DataFrame'>\n",
      "RangeIndex: 11950 entries, 0 to 11949\n",
      "Data columns (total 18 columns):\n",
      " #   Column                          Non-Null Count  Dtype  \n",
      "---  ------                          --------------  -----  \n",
      " 0   property_id                     11950 non-null  int64  \n",
      " 1   collection_date                 11950 non-null  object \n",
      " 2   listing_name                    11950 non-null  object \n",
      " 3   host_id                         11950 non-null  int64  \n",
      " 4   neighbourhood                   11950 non-null  object \n",
      " 5   latitude                        11950 non-null  float64\n",
      " 6   longitude                       11950 non-null  float64\n",
      " 7   room_type                       11950 non-null  object \n",
      " 8   price                           11950 non-null  int64  \n",
      " 9   minimum_nights                  11950 non-null  int64  \n",
      " 10  number_of_reviews               11950 non-null  int64  \n",
      " 11  last_review                     9500 non-null   object \n",
      " 12  reviews_per_month               9500 non-null   float64\n",
      " 13  calculated_host_listings_count  11950 non-null  int64  \n",
      " 14  availability_365                11950 non-null  int64  \n",
      " 15  number_of_reviews_ltm           11950 non-null  int64  \n",
      " 16  -80.0728500                     11950 non-null  float64\n",
      " 17  distance_to_beach               11950 non-null  float64\n",
      "dtypes: float64(5), int64(8), object(5)\n",
      "memory usage: 1.6+ MB\n"
     ]
    }
   ],
   "source": [
    "df_airbnb.info()"
   ]
  },
  {
   "cell_type": "markdown",
   "id": "d5919f6d",
   "metadata": {},
   "source": [
    "Renaming the column"
   ]
  },
  {
   "cell_type": "code",
   "execution_count": 4,
   "id": "9033810f",
   "metadata": {},
   "outputs": [],
   "source": [
    "df_airbnb.rename(columns = {'-80.0728500' : 'beach_longitude'}, inplace = True)"
   ]
  },
  {
   "cell_type": "markdown",
   "id": "00c883c4",
   "metadata": {},
   "source": [
    "Missing values check"
   ]
  },
  {
   "cell_type": "code",
   "execution_count": 5,
   "id": "2e3f30d1",
   "metadata": {},
   "outputs": [
    {
     "data": {
      "text/plain": [
       "property_id                          0\n",
       "collection_date                      0\n",
       "listing_name                         0\n",
       "host_id                              0\n",
       "neighbourhood                        0\n",
       "latitude                             0\n",
       "longitude                            0\n",
       "room_type                            0\n",
       "price                                0\n",
       "minimum_nights                       0\n",
       "number_of_reviews                    0\n",
       "last_review                       2450\n",
       "reviews_per_month                 2450\n",
       "calculated_host_listings_count       0\n",
       "availability_365                     0\n",
       "number_of_reviews_ltm                0\n",
       "beach_longitude                      0\n",
       "distance_to_beach                    0\n",
       "dtype: int64"
      ]
     },
     "execution_count": 5,
     "metadata": {},
     "output_type": "execute_result"
    }
   ],
   "source": [
    "df_airbnb.isnull().sum()"
   ]
  },
  {
   "cell_type": "markdown",
   "id": "5cc409fb",
   "metadata": {},
   "source": [
    "Duplicates check"
   ]
  },
  {
   "cell_type": "code",
   "execution_count": 6,
   "id": "47393b24",
   "metadata": {},
   "outputs": [],
   "source": [
    "dups = df_airbnb.duplicated()"
   ]
  },
  {
   "cell_type": "code",
   "execution_count": 7,
   "id": "0ce04158",
   "metadata": {},
   "outputs": [
    {
     "data": {
      "text/plain": [
       "(11950,)"
      ]
     },
     "execution_count": 7,
     "metadata": {},
     "output_type": "execute_result"
    }
   ],
   "source": [
    "dups.shape"
   ]
  },
  {
   "cell_type": "markdown",
   "id": "bfd8f72f",
   "metadata": {},
   "source": [
    "Extreme values check"
   ]
  },
  {
   "cell_type": "code",
   "execution_count": 10,
   "id": "5c75a1e6",
   "metadata": {},
   "outputs": [
    {
     "name": "stderr",
     "output_type": "stream",
     "text": [
      "C:\\Users\\shwal\\anaconda3\\lib\\site-packages\\seaborn\\distributions.py:2619: FutureWarning: `distplot` is a deprecated function and will be removed in a future version. Please adapt your code to use either `displot` (a figure-level function with similar flexibility) or `histplot` (an axes-level function for histograms).\n",
      "  warnings.warn(msg, FutureWarning)\n"
     ]
    },
    {
     "data": {
      "text/plain": [
       "<AxesSubplot:xlabel='price', ylabel='Density'>"
      ]
     },
     "execution_count": 10,
     "metadata": {},
     "output_type": "execute_result"
    },
    {
     "data": {
      "image/png": "[encoded data removed]",
      "text/plain": [
       "<Figure size 432x288 with 1 Axes>"
      ]
     },
     "metadata": {
      "needs_background": "light"
     },
     "output_type": "display_data"
    }
   ],
   "source": [
    "sns.distplot(df_airbnb['price'], bins=170) # Shows extreme values"
   ]
  },
  {
   "cell_type": "code",
   "execution_count": null,
   "id": "1247ea90",
   "metadata": {},
   "outputs": [],
   "source": [
    "# Some of the outliers in the high values may need to be removed, but let's try without doing so first."
   ]
  },
  {
   "cell_type": "code",
   "execution_count": 11,
   "id": "38426d48",
   "metadata": {},
   "outputs": [
    {
     "data": {
      "text/plain": [
       "226.39589958158996"
      ]
     },
     "execution_count": 11,
     "metadata": {},
     "output_type": "execute_result"
    }
   ],
   "source": [
    "df_airbnb['price'].mean() # Check the mean"
   ]
  },
  {
   "cell_type": "code",
   "execution_count": 12,
   "id": "d1ae018d",
   "metadata": {},
   "outputs": [
    {
     "data": {
      "text/plain": [
       "148.0"
      ]
     },
     "execution_count": 12,
     "metadata": {},
     "output_type": "execute_result"
    }
   ],
   "source": [
    "df_airbnb['price'].median() # Check the median"
   ]
  },
  {
   "cell_type": "code",
   "execution_count": 13,
   "id": "cc710076",
   "metadata": {},
   "outputs": [
    {
     "data": {
      "text/plain": [
       "10000"
      ]
     },
     "execution_count": 13,
     "metadata": {},
     "output_type": "execute_result"
    }
   ],
   "source": [
    "df_airbnb['price'].max() # Check the max"
   ]
  },
  {
   "cell_type": "markdown",
   "id": "a5385bc8",
   "metadata": {},
   "source": [
    "# 3 Data preparation for regression analysis"
   ]
  },
  {
   "cell_type": "markdown",
   "id": "40747ba1",
   "metadata": {},
   "source": [
    "Hypothesis: the smaller the distance to the beach, the higher the booking price per night"
   ]
  },
  {
   "cell_type": "code",
   "execution_count": 14,
   "id": "6244c1e2",
   "metadata": {},
   "outputs": [
    {
     "data": {
      "image/png": "[encoded data removed]",
      "text/plain": [
       "<Figure size 432x288 with 1 Axes>"
      ]
     },
     "metadata": {
      "needs_background": "light"
     },
     "output_type": "display_data"
    }
   ],
   "source": [
    "# Create a scatterplot using matplotlib for another look at how the chosen variables plot against each other.\n",
    "\n",
    "df_airbnb.plot(x = 'distance_to_beach', y='price',style='o') # The style option creates a scatterplot; without it, we only have lines.\n",
    "plt.title('Distance to beach vs Price per night')  \n",
    "plt.xlabel('Distance to beach')  \n",
    "plt.ylabel('Price per night')  \n",
    "plt.show()"
   ]
  },
  {
   "cell_type": "code",
   "execution_count": 15,
   "id": "7f2a2f83",
   "metadata": {},
   "outputs": [],
   "source": [
    "# Reshape the variables into NumPy arrays and put them into separate objects.\n",
    "\n",
    "X = df_airbnb['distance_to_beach'].values.reshape(-1,1)\n",
    "y = df_airbnb['price'].values.reshape(-1,1)"
   ]
  },
  {
   "cell_type": "code",
   "execution_count": 16,
   "id": "4562cb3c",
   "metadata": {},
   "outputs": [
    {
     "data": {
      "text/plain": [
       "array([[0.05152  ],\n",
       "       [0.04767  ],\n",
       "       [0.06916  ],\n",
       "       ...,\n",
       "       [0.0457602],\n",
       "       [0.06204  ],\n",
       "       [0.10432  ]])"
      ]
     },
     "execution_count": 16,
     "metadata": {},
     "output_type": "execute_result"
    }
   ],
   "source": [
    "X"
   ]
  },
  {
   "cell_type": "code",
   "execution_count": 17,
   "id": "fc162ee1",
   "metadata": {},
   "outputs": [
    {
     "data": {
      "text/plain": [
       "array([[191],\n",
       "       [110],\n",
       "       [ 99],\n",
       "       ...,\n",
       "       [182],\n",
       "       [290],\n",
       "       [ 41]], dtype=int64)"
      ]
     },
     "execution_count": 17,
     "metadata": {},
     "output_type": "execute_result"
    }
   ],
   "source": [
    "y"
   ]
  },
  {
   "cell_type": "code",
   "execution_count": 18,
   "id": "a0fa6d89",
   "metadata": {},
   "outputs": [],
   "source": [
    "# Split data into a training set and a test set.\n",
    "\n",
    "X_train, X_test, y_train, y_test = train_test_split(X, y, test_size=0.3, random_state=0)"
   ]
  },
  {
   "cell_type": "markdown",
   "id": "50fc1da3",
   "metadata": {},
   "source": [
    "# 4 Regression analysis"
   ]
  },
  {
   "cell_type": "code",
   "execution_count": 19,
   "id": "3dec3587",
   "metadata": {},
   "outputs": [],
   "source": [
    "# Create a regression object.\n",
    "\n",
    "regression = LinearRegression()  # This is the regression object, which will be fit onto the training set."
   ]
  },
  {
   "cell_type": "code",
   "execution_count": 20,
   "id": "ad23cc27",
   "metadata": {},
   "outputs": [
    {
     "data": {
      "text/plain": [
       "LinearRegression()"
      ]
     },
     "execution_count": 20,
     "metadata": {},
     "output_type": "execute_result"
    }
   ],
   "source": [
    "# Fit the regression object onto the training set.\n",
    "\n",
    "regression.fit(X_train, y_train)"
   ]
  },
  {
   "cell_type": "code",
   "execution_count": 21,
   "id": "42627652",
   "metadata": {},
   "outputs": [],
   "source": [
    "# Predict the values of y using X.\n",
    "\n",
    "y_predicted = regression.predict(X_test)"
   ]
  },
  {
   "cell_type": "code",
   "execution_count": 22,
   "id": "2c9305a6",
   "metadata": {},
   "outputs": [
    {
     "data": {
      "image/png": "[encoded data removed]",
      "text/plain": [
       "<Figure size 432x288 with 1 Axes>"
      ]
     },
     "metadata": {
      "needs_background": "light"
     },
     "output_type": "display_data"
    }
   ],
   "source": [
    "# Create a plot that shows the regression line from the model on the test set.\n",
    "\n",
    "plot_test = plt\n",
    "plot_test.scatter(X_test, y_test, color='gray', s = 15)\n",
    "plot_test.plot(X_test, y_predicted, color='red', linewidth =3)\n",
    "plot_test.title('Distance from beach vs Price per night (Test set)')\n",
    "plot_test.xlabel('Distance from beach')\n",
    "plot_test.ylabel('Price per night')\n",
    "plot_test.show()"
   ]
  },
  {
   "cell_type": "markdown",
   "id": "b849b9c3",
   "metadata": {},
   "source": [
    "Comment:\n",
    "The linear model represented by the red regression line doesn't perfectly cover all data points. In the area where the distance to the beach is small (less than 0.10), there are still many points indicating low price, which contradicts my hypothesis.\n",
    "\n",
    "To additionally check the accuracy of the model, summary statistics and dataframe with predicted values are applied below."
   ]
  },
  {
   "cell_type": "code",
   "execution_count": 23,
   "id": "d19a6efb",
   "metadata": {},
   "outputs": [],
   "source": [
    "# Create objects that contain the model summary statistics.\n",
    "\n",
    "rmse = mean_squared_error(y_test, y_predicted) # This is the mean squared error\n",
    "r2 = r2_score(y_test, y_predicted) # This is the R2 score. "
   ]
  },
  {
   "cell_type": "code",
   "execution_count": 24,
   "id": "e3925601",
   "metadata": {},
   "outputs": [
    {
     "name": "stdout",
     "output_type": "stream",
     "text": [
      "Slope: [[-385.38702405]]\n",
      "Mean squared error:  114512.13642292196\n",
      "R2 score:  0.00400627423650568\n"
     ]
    }
   ],
   "source": [
    "# Print the model summary statistics. This is where you evaluate the performance of the model.\n",
    "\n",
    "print('Slope:' ,regression.coef_)\n",
    "print('Mean squared error: ', rmse)\n",
    "print('R2 score: ', r2)"
   ]
  },
  {
   "cell_type": "code",
   "execution_count": 25,
   "id": "2d1b6629",
   "metadata": {},
   "outputs": [
    {
     "data": {
      "text/plain": [
       "array([[249.49990121],\n",
       "       [232.18060835],\n",
       "       [211.19628489],\n",
       "       ...,\n",
       "       [237.70320441],\n",
       "       [198.06229511],\n",
       "       [232.92825918]])"
      ]
     },
     "execution_count": 25,
     "metadata": {},
     "output_type": "execute_result"
    }
   ],
   "source": [
    "y_predicted"
   ]
  },
  {
   "cell_type": "code",
   "execution_count": 26,
   "id": "77a07e77",
   "metadata": {},
   "outputs": [
    {
     "data": {
      "text/html": [
       "<div>\n",
       "<style scoped>\n",
       "    .dataframe tbody tr th:only-of-type {\n",
       "        vertical-align: middle;\n",
       "    }\n",
       "\n",
       "    .dataframe tbody tr th {\n",
       "        vertical-align: top;\n",
       "    }\n",
       "\n",
       "    .dataframe thead th {\n",
       "        text-align: right;\n",
       "    }\n",
       "</style>\n",
       "<table border=\"1\" class=\"dataframe\">\n",
       "  <thead>\n",
       "    <tr style=\"text-align: right;\">\n",
       "      <th></th>\n",
       "      <th>Actual</th>\n",
       "      <th>Predicted</th>\n",
       "    </tr>\n",
       "  </thead>\n",
       "  <tbody>\n",
       "    <tr>\n",
       "      <th>0</th>\n",
       "      <td>367</td>\n",
       "      <td>249.499901</td>\n",
       "    </tr>\n",
       "    <tr>\n",
       "      <th>1</th>\n",
       "      <td>590</td>\n",
       "      <td>232.180608</td>\n",
       "    </tr>\n",
       "    <tr>\n",
       "      <th>2</th>\n",
       "      <td>50</td>\n",
       "      <td>211.196285</td>\n",
       "    </tr>\n",
       "    <tr>\n",
       "      <th>3</th>\n",
       "      <td>276</td>\n",
       "      <td>243.023858</td>\n",
       "    </tr>\n",
       "    <tr>\n",
       "      <th>4</th>\n",
       "      <td>209</td>\n",
       "      <td>248.220416</td>\n",
       "    </tr>\n",
       "    <tr>\n",
       "      <th>5</th>\n",
       "      <td>134</td>\n",
       "      <td>229.787355</td>\n",
       "    </tr>\n",
       "    <tr>\n",
       "      <th>6</th>\n",
       "      <td>120</td>\n",
       "      <td>247.650043</td>\n",
       "    </tr>\n",
       "    <tr>\n",
       "      <th>7</th>\n",
       "      <td>180</td>\n",
       "      <td>205.087901</td>\n",
       "    </tr>\n",
       "    <tr>\n",
       "      <th>8</th>\n",
       "      <td>99</td>\n",
       "      <td>232.989921</td>\n",
       "    </tr>\n",
       "    <tr>\n",
       "      <th>9</th>\n",
       "      <td>400</td>\n",
       "      <td>196.963942</td>\n",
       "    </tr>\n",
       "    <tr>\n",
       "      <th>10</th>\n",
       "      <td>247</td>\n",
       "      <td>235.541183</td>\n",
       "    </tr>\n",
       "    <tr>\n",
       "      <th>11</th>\n",
       "      <td>90</td>\n",
       "      <td>243.468594</td>\n",
       "    </tr>\n",
       "    <tr>\n",
       "      <th>12</th>\n",
       "      <td>350</td>\n",
       "      <td>254.629403</td>\n",
       "    </tr>\n",
       "    <tr>\n",
       "      <th>13</th>\n",
       "      <td>138</td>\n",
       "      <td>239.449008</td>\n",
       "    </tr>\n",
       "    <tr>\n",
       "      <th>14</th>\n",
       "      <td>584</td>\n",
       "      <td>245.973610</td>\n",
       "    </tr>\n",
       "    <tr>\n",
       "      <th>15</th>\n",
       "      <td>30</td>\n",
       "      <td>207.257630</td>\n",
       "    </tr>\n",
       "    <tr>\n",
       "      <th>16</th>\n",
       "      <td>97</td>\n",
       "      <td>238.824681</td>\n",
       "    </tr>\n",
       "    <tr>\n",
       "      <th>17</th>\n",
       "      <td>133</td>\n",
       "      <td>235.109550</td>\n",
       "    </tr>\n",
       "    <tr>\n",
       "      <th>18</th>\n",
       "      <td>89</td>\n",
       "      <td>246.786777</td>\n",
       "    </tr>\n",
       "    <tr>\n",
       "      <th>19</th>\n",
       "      <td>164</td>\n",
       "      <td>229.875994</td>\n",
       "    </tr>\n",
       "    <tr>\n",
       "      <th>20</th>\n",
       "      <td>65</td>\n",
       "      <td>205.022385</td>\n",
       "    </tr>\n",
       "    <tr>\n",
       "      <th>21</th>\n",
       "      <td>195</td>\n",
       "      <td>239.414323</td>\n",
       "    </tr>\n",
       "    <tr>\n",
       "      <th>22</th>\n",
       "      <td>499</td>\n",
       "      <td>246.898539</td>\n",
       "    </tr>\n",
       "    <tr>\n",
       "      <th>23</th>\n",
       "      <td>149</td>\n",
       "      <td>237.310110</td>\n",
       "    </tr>\n",
       "    <tr>\n",
       "      <th>24</th>\n",
       "      <td>115</td>\n",
       "      <td>243.318293</td>\n",
       "    </tr>\n",
       "    <tr>\n",
       "      <th>25</th>\n",
       "      <td>350</td>\n",
       "      <td>238.832388</td>\n",
       "    </tr>\n",
       "    <tr>\n",
       "      <th>26</th>\n",
       "      <td>75</td>\n",
       "      <td>246.170157</td>\n",
       "    </tr>\n",
       "    <tr>\n",
       "      <th>27</th>\n",
       "      <td>139</td>\n",
       "      <td>237.868921</td>\n",
       "    </tr>\n",
       "    <tr>\n",
       "      <th>28</th>\n",
       "      <td>156</td>\n",
       "      <td>237.972975</td>\n",
       "    </tr>\n",
       "    <tr>\n",
       "      <th>29</th>\n",
       "      <td>323</td>\n",
       "      <td>227.914374</td>\n",
       "    </tr>\n",
       "  </tbody>\n",
       "</table>\n",
       "</div>"
      ],
      "text/plain": [
       "    Actual   Predicted\n",
       "0      367  249.499901\n",
       "1      590  232.180608\n",
       "2       50  211.196285\n",
       "3      276  243.023858\n",
       "4      209  248.220416\n",
       "5      134  229.787355\n",
       "6      120  247.650043\n",
       "7      180  205.087901\n",
       "8       99  232.989921\n",
       "9      400  196.963942\n",
       "10     247  235.541183\n",
       "11      90  243.468594\n",
       "12     350  254.629403\n",
       "13     138  239.449008\n",
       "14     584  245.973610\n",
       "15      30  207.257630\n",
       "16      97  238.824681\n",
       "17     133  235.109550\n",
       "18      89  246.786777\n",
       "19     164  229.875994\n",
       "20      65  205.022385\n",
       "21     195  239.414323\n",
       "22     499  246.898539\n",
       "23     149  237.310110\n",
       "24     115  243.318293\n",
       "25     350  238.832388\n",
       "26      75  246.170157\n",
       "27     139  237.868921\n",
       "28     156  237.972975\n",
       "29     323  227.914374"
      ]
     },
     "execution_count": 26,
     "metadata": {},
     "output_type": "execute_result"
    }
   ],
   "source": [
    "# Create a dataframe comparing the actual and predicted values of y.\n",
    "\n",
    "data = pd.DataFrame({'Actual': y_test.flatten(), 'Predicted': y_predicted.flatten()})\n",
    "data.head(30)"
   ]
  },
  {
   "cell_type": "markdown",
   "id": "02101608",
   "metadata": {},
   "source": [
    "Compare how the regression fits the training set"
   ]
  },
  {
   "cell_type": "code",
   "execution_count": 27,
   "id": "8b1ec52b",
   "metadata": {},
   "outputs": [],
   "source": [
    "# Predict.\n",
    "\n",
    "y_predicted_train = regression.predict(X_train) # This is predicting X_train!"
   ]
  },
  {
   "cell_type": "code",
   "execution_count": 28,
   "id": "1dfbcbb6",
   "metadata": {},
   "outputs": [],
   "source": [
    "rmse = mean_squared_error(y_train, y_predicted_train)\n",
    "r2 = r2_score(y_train, y_predicted_train)"
   ]
  },
  {
   "cell_type": "code",
   "execution_count": 29,
   "id": "125c1cce",
   "metadata": {},
   "outputs": [
    {
     "name": "stdout",
     "output_type": "stream",
     "text": [
      "Slope: [[-385.38702405]]\n",
      "Mean squared error:  147005.3415728195\n",
      "R2 score:  0.00351667711631376\n"
     ]
    }
   ],
   "source": [
    "print('Slope:' ,regression.coef_)\n",
    "print('Mean squared error: ', rmse)\n",
    "print('R2 score: ', r2)"
   ]
  },
  {
   "cell_type": "code",
   "execution_count": 30,
   "id": "cb0058bf",
   "metadata": {},
   "outputs": [
    {
     "data": {
      "image/png": "[encoded data removed]",
      "text/plain": [
       "<Figure size 432x288 with 1 Axes>"
      ]
     },
     "metadata": {
      "needs_background": "light"
     },
     "output_type": "display_data"
    }
   ],
   "source": [
    "plot_test = plt\n",
    "plot_test.scatter(X_train, y_train, color='green', s = 15)\n",
    "plot_test.plot(X_train, y_predicted_train, color='red', linewidth =3)\n",
    "plot_test.title('Distance from beach vs Price per night (Test set)')\n",
    "plot_test.xlabel('Distance from beach')\n",
    "plot_test.ylabel('Price per night')\n",
    "plot_test.show()"
   ]
  },
  {
   "cell_type": "markdown",
   "id": "9bc8279c",
   "metadata": {},
   "source": [
    "Comment:\n",
    "\n",
    "A negative slope value indicates a negative relationship: when distance to the beach rises, the price per night drops. The slope drops at a degree of 385.\n",
    "\n",
    "The root mean squared error tells how close a regression line is to a set of points. It looks like the distance from the points to the regression line is pretty large (114512) indicating that the regression line isnt't an accurate representation of the data.\n",
    "\n",
    "The R2 score is a metric that tells how well the model explains the variance in the data: values closer to 0 indicate a poor fit, and values closer to 1 indicate a good fit. The R2 score in my model is 0.004 which is 0.4 percent. It is a very low percentage meaning that the model isn't a great fit.\n",
    "\n",
    "A dataframe of y values and their predicted values is another manual check for the model's accuracy. This dataframe let my physically see that there is a quite big difference between the two. This just adds evidence to the fact that the model doesn't explain well the relationship between both variables. The relatioship doesn't follow a single, stright regression line.\n",
    "\n",
    "By performing the operations above, I confirmed the inaccuracy of the model, so I can also rule out the hypothesis, \"the smaller the distance to the beach, the higher the booking price per night\". \n",
    "\n",
    "It turned out that this statement is only partially true and there are most likely other factors influencing the price than only the distance to the beach. It is an important factor in pricing where the distance is large, but it doesn't play as large role when there's less distance. \n",
    "I would need to create a multiple regression model with more predictors."
   ]
  },
  {
   "cell_type": "markdown",
   "id": "cf9a63ba",
   "metadata": {},
   "source": [
    "# 5 Bonus: performance improvement after removing outliers"
   ]
  },
  {
   "cell_type": "code",
   "execution_count": 31,
   "id": "07f4e8ae",
   "metadata": {},
   "outputs": [],
   "source": [
    "# Clean the extreme values from the \"price\" variable observed during the consistency checks.\n",
    "\n",
    "df_test = df_airbnb[df_airbnb['price'] <=2000] "
   ]
  },
  {
   "cell_type": "code",
   "execution_count": 32,
   "id": "6bd2d621",
   "metadata": {},
   "outputs": [
    {
     "data": {
      "image/png": "[encoded data removed]",
      "text/plain": [
       "<Figure size 432x288 with 1 Axes>"
      ]
     },
     "metadata": {
      "needs_background": "light"
     },
     "output_type": "display_data"
    }
   ],
   "source": [
    "# See how the scatterplot looks without outliers.\n",
    "\n",
    "df_test.plot(x = 'distance_to_beach', y='price', style='o')  \n",
    "plt.title('Distance to beach vs Price per night')  \n",
    "plt.xlabel('Distance to beach')  \n",
    "plt.ylabel('Price per night')  \n",
    "plt.show()"
   ]
  },
  {
   "cell_type": "code",
   "execution_count": 33,
   "id": "b0f84050",
   "metadata": {},
   "outputs": [],
   "source": [
    "# Reshape again.\n",
    "\n",
    "X_2 = df_test['distance_to_beach'].values.reshape(-1,1)\n",
    "y_2 = df_test['price'].values.reshape(-1,1)"
   ]
  },
  {
   "cell_type": "code",
   "execution_count": 34,
   "id": "4a0c94d2",
   "metadata": {},
   "outputs": [],
   "source": [
    "X_train_2, X_test_2, y_train_2, y_test_2 = train_test_split(X_2, y_2, test_size=0.3, random_state=0)"
   ]
  },
  {
   "cell_type": "code",
   "execution_count": 35,
   "id": "53fbe0c8",
   "metadata": {},
   "outputs": [
    {
     "data": {
      "text/plain": [
       "LinearRegression()"
      ]
     },
     "execution_count": 35,
     "metadata": {},
     "output_type": "execute_result"
    }
   ],
   "source": [
    "# Run and fit the regression.\n",
    "\n",
    "regression = LinearRegression()  \n",
    "regression.fit(X_train_2, y_train_2)"
   ]
  },
  {
   "cell_type": "code",
   "execution_count": 36,
   "id": "5586f962",
   "metadata": {},
   "outputs": [],
   "source": [
    "# Predict.\n",
    "\n",
    "y_predicted_2 = regression.predict(X_test_2)"
   ]
  },
  {
   "cell_type": "code",
   "execution_count": 37,
   "id": "a664db42",
   "metadata": {},
   "outputs": [],
   "source": [
    "rmse = mean_squared_error(y_test_2, y_predicted_2)\n",
    "r2 = r2_score(y_test_2, y_predicted_2)"
   ]
  },
  {
   "cell_type": "code",
   "execution_count": 38,
   "id": "8f82d130",
   "metadata": {},
   "outputs": [
    {
     "name": "stdout",
     "output_type": "stream",
     "text": [
      "Slope: [[-319.17730741]]\n",
      "Mean squared error:  40298.77131205188\n",
      "R2 score:  0.008268365276036693\n"
     ]
    }
   ],
   "source": [
    "print('Slope:' ,regression.coef_)\n",
    "print('Mean squared error: ', rmse)\n",
    "print('R2 score: ', r2)"
   ]
  },
  {
   "cell_type": "code",
   "execution_count": 39,
   "id": "299c6858",
   "metadata": {},
   "outputs": [
    {
     "data": {
      "image/png": "[encoded data removed]",
      "text/plain": [
       "<Figure size 432x288 with 1 Axes>"
      ]
     },
     "metadata": {
      "needs_background": "light"
     },
     "output_type": "display_data"
    }
   ],
   "source": [
    "# Visualizing the test set results.\n",
    "\n",
    "plot_test = plt\n",
    "plot_test.scatter(X_test, y_test, color='gray', s = 15)\n",
    "plot_test.plot(X_train, regression.predict(X_train), color='red', linewidth =3)\n",
    "plot_test.title('Distance to beach vs Price per night (Test set)')\n",
    "plot_test.xlabel('Distance to beach')\n",
    "plot_test.ylabel('Price per night')\n",
    "plot_test.show()"
   ]
  },
  {
   "cell_type": "code",
   "execution_count": 41,
   "id": "92933690",
   "metadata": {},
   "outputs": [
    {
     "data": {
      "text/html": [
       "<div>\n",
       "<style scoped>\n",
       "    .dataframe tbody tr th:only-of-type {\n",
       "        vertical-align: middle;\n",
       "    }\n",
       "\n",
       "    .dataframe tbody tr th {\n",
       "        vertical-align: top;\n",
       "    }\n",
       "\n",
       "    .dataframe thead th {\n",
       "        text-align: right;\n",
       "    }\n",
       "</style>\n",
       "<table border=\"1\" class=\"dataframe\">\n",
       "  <thead>\n",
       "    <tr style=\"text-align: right;\">\n",
       "      <th></th>\n",
       "      <th>Actual</th>\n",
       "      <th>Predicted</th>\n",
       "    </tr>\n",
       "  </thead>\n",
       "  <tbody>\n",
       "    <tr>\n",
       "      <th>0</th>\n",
       "      <td>158</td>\n",
       "      <td>209.657950</td>\n",
       "    </tr>\n",
       "    <tr>\n",
       "      <th>1</th>\n",
       "      <td>85</td>\n",
       "      <td>183.849273</td>\n",
       "    </tr>\n",
       "    <tr>\n",
       "      <th>2</th>\n",
       "      <td>500</td>\n",
       "      <td>164.092198</td>\n",
       "    </tr>\n",
       "    <tr>\n",
       "      <th>3</th>\n",
       "      <td>989</td>\n",
       "      <td>166.683918</td>\n",
       "    </tr>\n",
       "    <tr>\n",
       "      <th>4</th>\n",
       "      <td>298</td>\n",
       "      <td>213.896625</td>\n",
       "    </tr>\n",
       "    <tr>\n",
       "      <th>5</th>\n",
       "      <td>74</td>\n",
       "      <td>197.305789</td>\n",
       "    </tr>\n",
       "    <tr>\n",
       "      <th>6</th>\n",
       "      <td>153</td>\n",
       "      <td>211.694302</td>\n",
       "    </tr>\n",
       "    <tr>\n",
       "      <th>7</th>\n",
       "      <td>158</td>\n",
       "      <td>211.087865</td>\n",
       "    </tr>\n",
       "    <tr>\n",
       "      <th>8</th>\n",
       "      <td>136</td>\n",
       "      <td>201.818956</td>\n",
       "    </tr>\n",
       "    <tr>\n",
       "      <th>9</th>\n",
       "      <td>75</td>\n",
       "      <td>134.143791</td>\n",
       "    </tr>\n",
       "    <tr>\n",
       "      <th>10</th>\n",
       "      <td>90</td>\n",
       "      <td>205.428851</td>\n",
       "    </tr>\n",
       "    <tr>\n",
       "      <th>11</th>\n",
       "      <td>89</td>\n",
       "      <td>224.435860</td>\n",
       "    </tr>\n",
       "    <tr>\n",
       "      <th>12</th>\n",
       "      <td>50</td>\n",
       "      <td>175.885799</td>\n",
       "    </tr>\n",
       "    <tr>\n",
       "      <th>13</th>\n",
       "      <td>129</td>\n",
       "      <td>212.648642</td>\n",
       "    </tr>\n",
       "    <tr>\n",
       "      <th>14</th>\n",
       "      <td>135</td>\n",
       "      <td>213.446585</td>\n",
       "    </tr>\n",
       "    <tr>\n",
       "      <th>15</th>\n",
       "      <td>70</td>\n",
       "      <td>212.128383</td>\n",
       "    </tr>\n",
       "    <tr>\n",
       "      <th>16</th>\n",
       "      <td>65</td>\n",
       "      <td>159.116224</td>\n",
       "    </tr>\n",
       "    <tr>\n",
       "      <th>17</th>\n",
       "      <td>34</td>\n",
       "      <td>185.872857</td>\n",
       "    </tr>\n",
       "    <tr>\n",
       "      <th>18</th>\n",
       "      <td>1000</td>\n",
       "      <td>199.278304</td>\n",
       "    </tr>\n",
       "    <tr>\n",
       "      <th>19</th>\n",
       "      <td>89</td>\n",
       "      <td>201.477436</td>\n",
       "    </tr>\n",
       "    <tr>\n",
       "      <th>20</th>\n",
       "      <td>320</td>\n",
       "      <td>205.234153</td>\n",
       "    </tr>\n",
       "    <tr>\n",
       "      <th>21</th>\n",
       "      <td>371</td>\n",
       "      <td>211.809205</td>\n",
       "    </tr>\n",
       "    <tr>\n",
       "      <th>22</th>\n",
       "      <td>217</td>\n",
       "      <td>218.384258</td>\n",
       "    </tr>\n",
       "    <tr>\n",
       "      <th>23</th>\n",
       "      <td>55</td>\n",
       "      <td>156.304272</td>\n",
       "    </tr>\n",
       "    <tr>\n",
       "      <th>24</th>\n",
       "      <td>161</td>\n",
       "      <td>211.486836</td>\n",
       "    </tr>\n",
       "    <tr>\n",
       "      <th>25</th>\n",
       "      <td>151</td>\n",
       "      <td>198.196293</td>\n",
       "    </tr>\n",
       "    <tr>\n",
       "      <th>26</th>\n",
       "      <td>263</td>\n",
       "      <td>195.856724</td>\n",
       "    </tr>\n",
       "    <tr>\n",
       "      <th>27</th>\n",
       "      <td>71</td>\n",
       "      <td>198.279279</td>\n",
       "    </tr>\n",
       "    <tr>\n",
       "      <th>28</th>\n",
       "      <td>99</td>\n",
       "      <td>216.705385</td>\n",
       "    </tr>\n",
       "    <tr>\n",
       "      <th>29</th>\n",
       "      <td>100</td>\n",
       "      <td>214.716911</td>\n",
       "    </tr>\n",
       "  </tbody>\n",
       "</table>\n",
       "</div>"
      ],
      "text/plain": [
       "    Actual   Predicted\n",
       "0      158  209.657950\n",
       "1       85  183.849273\n",
       "2      500  164.092198\n",
       "3      989  166.683918\n",
       "4      298  213.896625\n",
       "5       74  197.305789\n",
       "6      153  211.694302\n",
       "7      158  211.087865\n",
       "8      136  201.818956\n",
       "9       75  134.143791\n",
       "10      90  205.428851\n",
       "11      89  224.435860\n",
       "12      50  175.885799\n",
       "13     129  212.648642\n",
       "14     135  213.446585\n",
       "15      70  212.128383\n",
       "16      65  159.116224\n",
       "17      34  185.872857\n",
       "18    1000  199.278304\n",
       "19      89  201.477436\n",
       "20     320  205.234153\n",
       "21     371  211.809205\n",
       "22     217  218.384258\n",
       "23      55  156.304272\n",
       "24     161  211.486836\n",
       "25     151  198.196293\n",
       "26     263  195.856724\n",
       "27      71  198.279279\n",
       "28      99  216.705385\n",
       "29     100  214.716911"
      ]
     },
     "execution_count": 41,
     "metadata": {},
     "output_type": "execute_result"
    }
   ],
   "source": [
    "data = pd.DataFrame({'Actual': y_test_2.flatten(), 'Predicted': y_predicted_2.flatten()})\n",
    "data.head(30)\n"
   ]
  }
 ],
 "metadata": {
  "kernelspec": {
   "display_name": "Python 3 (ipykernel)",
   "language": "python",
   "name": "python3"
  },
  "language_info": {
   "codemirror_mode": {
    "name": "ipython",
    "version": 3
   },
   "file_extension": ".py",
   "mimetype": "text/x-python",
   "name": "python",
   "nbconvert_exporter": "python",
   "pygments_lexer": "ipython3",
   "version": "3.8.12"
  }
 },
 "nbformat": 4,
 "nbformat_minor": 5
}
